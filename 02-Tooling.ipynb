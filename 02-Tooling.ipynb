{
  "cells": [
    {
      "cell_type": "markdown",
      "metadata": {
        "id": "view-in-github",
        "colab_type": "text"
      },
      "source": [
        "<a href=\"https://colab.research.google.com/github/lintco/notebook/blob/main/02-Tooling.ipynb\" target=\"_parent\"><img src=\"https://colab.research.google.com/assets/colab-badge.svg\" alt=\"Open In Colab\"/></a>"
      ]
    },
    {
      "cell_type": "markdown",
      "metadata": {
        "editable": true,
        "tags": [],
        "id": "LCuPMxodgK4x"
      },
      "source": [
        "**Course Announcements**\n",
        "\n",
        "Due next week (11:59 PM):\n",
        "- **VQ2** due Monday\n",
        "- **VQ3** due Wednesday\n",
        "- **CL1** due next Friday\n",
        "- Pre-course assessments (two surveys) due next Sunday\n",
        "\n",
        "Notes:\n",
        "- I'm extending VQ1 due date to Monday as well. It's the first one. Everyone's just getting back into the swing.\n",
        "- Coding Labs will be released on Fridays and due the following Friday.\n",
        "- This course redesign will work best if you keep up with the videos and think/learn while watching them. The quizzes are there to keep you on track...but don't contain *all* we expect you to know.\n",
        "- Labs and office hours begin next week\n",
        "- Sign up for your exams if you haven't already: [https://us.prairietest.com/pt](https://us.prairietest.com/pt) (practice exam is totally *optional*)\n",
        "\n"
      ]
    },
    {
      "cell_type": "markdown",
      "source": [],
      "metadata": {
        "id": "4nRlluTTgdd1"
      }
    },
    {
      "cell_type": "code",
      "source": [],
      "metadata": {
        "id": "1oQKWyrugNLU"
      },
      "execution_count": null,
      "outputs": []
    },
    {
      "cell_type": "markdown",
      "source": [],
      "metadata": {
        "id": "DVIuJmP5gNg3"
      }
    },
    {
      "cell_type": "markdown",
      "source": [],
      "metadata": {
        "id": "mdUxaTzygpks"
      }
    },
    {
      "cell_type": "markdown",
      "metadata": {
        "editable": true,
        "tags": [],
        "id": "tYjTuK4SgK4z"
      },
      "source": [
        "# Tooling\n",
        "\n",
        "[![Open In Colab](https://colab.research.google.com/assets/colab-badge.svg)](https://colab.research.google.com/github/COGS18/LectureNotes-COGS18/blob/main/02-Tooling.ipynb)\n",
        "\n",
        "- Jupyter Notebooks (& Google Colab)\n",
        "- PrairieLearn\n",
        "- Academic Integrity"
      ]
    },
    {
      "cell_type": "markdown",
      "metadata": {
        "id": "QNK0SlEXgK4z"
      },
      "source": [
        "This notebook will guide through the tools you will need for class materials and assignments, and how to get them."
      ]
    },
    {
      "cell_type": "markdown",
      "metadata": {
        "editable": true,
        "tags": [],
        "id": "9J0x3MBqgK4z"
      },
      "source": [
        "## Jupyter Notebooks\n",
        "\n",
        "- Markdown\n",
        "- code cells\n",
        "\n",
        "**Google Colab** is Google's version of a jupyter notebook."
      ]
    },
    {
      "cell_type": "markdown",
      "metadata": {
        "editable": true,
        "tags": [],
        "id": "dMpDsmLLgK4z"
      },
      "source": [
        "<div class=\"alert alert-success\">\n",
        "Jupyter notebooks are a way to combine executable code, code outputs, and text into one connected file.\n",
        "</div>\n",
        "\n",
        "<div class=\"alert alert-info\">\n",
        "The official documentation from project Jupyter is available\n",
        "<a href=\"https://jupyter-notebook.readthedocs.io/en/stable/\" class=\"alert-link\">here</a>\n",
        "and they also have some example notebooks\n",
        "<a href=\"https://github.com/jupyter/notebook/tree/master/docs/source/examples/Notebook\" class=\"alert-link\">here</a>\n",
        ".\n",
        "</div>"
      ]
    },
    {
      "cell_type": "markdown",
      "metadata": {
        "editable": true,
        "tags": [],
        "id": "-RW26qn2gK40"
      },
      "source": [
        "<div class=\"alert alert-info\">\n",
        "For more useful information, check out Jupyter Notebooks\n",
        "<a href=\"https://www.dataquest.io/blog/jupyter-notebook-tips-tricks-shortcuts/\" class=\"alert-link\">tips & tricks</a>\n",
        ", and more information on how\n",
        "<a href=\"http://jupyter.readthedocs.io/en/latest/architecture/how_jupyter_ipython_work.html\" class=\"alert-link\">notebooks work</a>.\n",
        "</div>"
      ]
    },
    {
      "cell_type": "markdown",
      "metadata": {
        "editable": true,
        "tags": [],
        "id": "RiBZJh0TgK40"
      },
      "source": [
        "### Menu Options & Shortcuts\n",
        "\n",
        "In the 'Help' menu, there are a number of \"References\" documenting different aspects of Jupyter.\n",
        "\n",
        "## There are also a large number of useful keyboard shortcuts. Click on the 'Help' menu, and then 'Show Keyboard Shortcuts' to see a list."
      ]
    },
    {
      "cell_type": "markdown",
      "source": [],
      "metadata": {
        "id": "sESuPrMohx1g"
      }
    },
    {
      "cell_type": "markdown",
      "metadata": {
        "editable": true,
        "tags": [],
        "id": "6QHv_yvOgK40"
      },
      "source": [
        "### Cells"
      ]
    },
    {
      "cell_type": "markdown",
      "metadata": {
        "editable": true,
        "tags": [],
        "id": "nEoOXKJjgK40"
      },
      "source": [
        "<div class=\"alert alert-success\">\n",
        "    The main organizational structure of the notebook are <b>cells</b>.\n",
        "</div>\n",
        "# cells will either have text or code\n"
      ]
    },
    {
      "cell_type": "markdown",
      "metadata": {
        "editable": true,
        "tags": [],
        "id": "L94sm98XgK40"
      },
      "source": [
        "Cells are an independent 'unit'. When you click into a cell, you can 'run' it\n",
        "\n",
        "---\n",
        "\n",
        "_by clicking Shift + Enter, or by pressing the play (Run) button above_\n",
        "\n",
        "Cells come in different types for writing different things - mainly, text or code."
      ]
    },
    {
      "cell_type": "markdown",
      "metadata": {
        "editable": true,
        "tags": [],
        "id": "VaAW-r4_gK40"
      },
      "source": [
        "#### Markdown Cells\n",
        "\n",
        "Cells, can be markdown (text), like this one."
      ]
    },
    {
      "cell_type": "markdown",
      "metadata": {
        "editable": true,
        "tags": [],
        "id": "R7Rb9dkfgK40"
      },
      "source": [
        "A brief note about Markdown. It's a way to specify all formatting within the text itself.\n",
        "\n",
        "For example, italicized text can be specified with an _underscore_ or *single asterisks*.\n",
        "\n",
        "# Bold text requires __two underccores__ or **two asterisks**.\n",
        "\n",
        "Bold and italicized requires ___three underscores___ or ***three asterisks***"
      ]
    },
    {
      "cell_type": "markdown",
      "metadata": {
        "editable": true,
        "tags": [],
        "id": "gp-MJq4pgK40"
      },
      "source": [
        "### Markdown Headers\n",
        "\n",
        "## Headers are specified with a pound sign\n",
        "\n",
        "### The more pound signs, the smaller the header\n",
        "\n",
        "#### But it's still larger\n",
        "\n",
        "than just plain text.\n"
      ]
    },
    {
      "cell_type": "markdown",
      "metadata": {
        "editable": true,
        "tags": [],
        "id": "KPepl0argK40"
      },
      "source": [
        "Lists are also possible:\n",
        "    \n",
        "- item 1\n",
        "- item 2\n",
        "- item 3\n",
        "\n",
        "\n",
        "1. numbered item\n",
        "2. item 2\n",
        "3. item 3\n",
        "\n",
        "1. item 1\n",
        "1. item 2\n",
        "1. item 3\n",
        "\n",
        "CLICK TO EDIT FOR CLARIFICATION"
      ]
    },
    {
      "cell_type": "markdown",
      "metadata": {
        "editable": true,
        "tags": [],
        "id": "inOEoH7SgK41"
      },
      "source": [
        "#### Code Cells\n",
        "\n",
        "Whenever you're writing code, you'll want to be sure the cell is set to be a code cell"
      ]
    },
    {
      "cell_type": "code",
      "source": [],
      "metadata": {
        "id": "ryLTWrYCh-Zf"
      },
      "execution_count": null,
      "outputs": []
    },
    {
      "cell_type": "code",
      "source": [],
      "metadata": {
        "id": "1bA28W1BiPsV"
      },
      "execution_count": null,
      "outputs": []
    },
    {
      "cell_type": "code",
      "execution_count": 2,
      "metadata": {
        "editable": true,
        "tags": [],
        "colab": {
          "base_uri": "https://localhost:8080/"
        },
        "id": "-Csmjd5_gK41",
        "outputId": "1c4e1ce5-bd2a-4397-ea32-44ad6150a787"
      },
      "outputs": [
        {
          "output_type": "execute_result",
          "data": {
            "text/plain": [
              "int"
            ]
          },
          "metadata": {},
          "execution_count": 2
        }
      ],
      "source": [
        "# Cell can also be code.\n",
        "a = 1\n",
        "b = 2\n",
        "type(a)\n",
        "type(b)"
      ]
    },
    {
      "cell_type": "code",
      "execution_count": 3,
      "metadata": {
        "editable": true,
        "tags": [],
        "colab": {
          "base_uri": "https://localhost:8080/"
        },
        "id": "iVVJl0m1gK41",
        "outputId": "9ab1842f-f214-42c8-eee0-d1f2cfb656da"
      },
      "outputs": [
        {
          "output_type": "stream",
          "name": "stdout",
          "text": [
            "-1\n"
          ]
        }
      ],
      "source": [
        "# Cells can also have output, that gets printed out below the cell.\n",
        "c = a - b\n",
        "print(c)"
      ]
    },
    {
      "cell_type": "code",
      "source": [
        "v=6\n",
        "print(v)"
      ],
      "metadata": {
        "colab": {
          "base_uri": "https://localhost:8080/"
        },
        "id": "3cZYyjGhjlWL",
        "outputId": "8bdd6a04-f70b-45fb-d9cf-c3dfb4c95d54"
      },
      "execution_count": 5,
      "outputs": [
        {
          "output_type": "stream",
          "name": "stdout",
          "text": [
            "6\n"
          ]
        }
      ]
    },
    {
      "cell_type": "code",
      "execution_count": 4,
      "metadata": {
        "editable": true,
        "tags": [],
        "colab": {
          "base_uri": "https://localhost:8080/"
        },
        "id": "tJLnteRZgK41",
        "outputId": "f857aae6-8b67-4c9c-d111-8f8b7be0ae34"
      },
      "outputs": [
        {
          "output_type": "execute_result",
          "data": {
            "text/plain": [
              "-1"
            ]
          },
          "metadata": {},
          "execution_count": 4
        }
      ],
      "source": [
        "# If you execute a cell with just a variable name in it, it will also get printed\n",
        "c"
      ]
    },
    {
      "cell_type": "code",
      "source": [],
      "metadata": {
        "id": "KljCUBXLnoxj"
      },
      "execution_count": null,
      "outputs": []
    },
    {
      "cell_type": "markdown",
      "metadata": {
        "editable": true,
        "tags": [],
        "id": "LqkyDTB3gK41"
      },
      "source": [
        "#### Running Cells\n",
        "\n",
        "- The numbers in the square brackets to the left of a cell show which cells have been run, and in what order.\n",
        "    - An asterisk (*) means that the cell is currently running\n",
        "    - You do not need to run cells in order! This is useful for flexibly testing and developing code."
      ]
    },
    {
      "cell_type": "markdown",
      "metadata": {
        "editable": true,
        "tags": [],
        "id": "RQl9U6JdgK41"
      },
      "source": [
        "### Activity time: Tooling\n",
        "\n",
        "Complete all questions in this Google Form ([https://forms.gle/2rtinhdpuQtBkppE9](https://forms.gle/2rtinhdpuQtBkppE9)) and then click submit.\n",
        "\n",
        "You are encouraged to:\n",
        "1. Talk with your neighbor\n",
        "2. Try the questions out in your notebok to check your understanding\n",
        "\n",
        "If you have questions, I'm happy to come over as we work on this!"
      ]
    },
    {
      "cell_type": "markdown",
      "metadata": {
        "editable": true,
        "tags": [],
        "id": "hhJiXBVQgK41"
      },
      "source": [
        "### Accessing Documentation"
      ]
    },
    {
      "cell_type": "markdown",
      "metadata": {
        "editable": true,
        "tags": [],
        "id": "rjcLReNvgK41"
      },
      "source": [
        "<div class=\"alert alert-success\">\n",
        "Jupyter has useful shortcuts. Add a single <code>?</code> after a function or class get a window with the documentation, or a double <code>??</code> to pull up the source code.\n",
        "</div>"
      ]
    },
    {
      "cell_type": "code",
      "execution_count": 10,
      "metadata": {
        "editable": true,
        "tags": [],
        "id": "n4EedmxJgK41"
      },
      "outputs": [],
      "source": [
        "# For example, execute this cell to see the documentation for the 'abs'\n",
        "abs?"
      ]
    },
    {
      "cell_type": "markdown",
      "metadata": {
        "editable": true,
        "tags": [],
        "id": "FZ0QxLxNgK41"
      },
      "source": [
        "### Autocomplete"
      ]
    },
    {
      "cell_type": "markdown",
      "metadata": {
        "editable": true,
        "tags": [],
        "id": "CXYV1ltmgK41"
      },
      "source": [
        "<div class=\"alert alert-success\">\n",
        "Jupyter also has\n",
        "<a href=\"https://en.wikipedia.org/wiki/Command-line_completion\" class=\"alert-link\">tab complete</a>\n",
        "capacities, which can autocomplete what you are typing, and/or be used to explore what code is available. (Note: Some of this functionality is limited on datahub.)\n",
        "</div>"
      ]
    },
    {
      "cell_type": "code",
      "execution_count": null,
      "metadata": {
        "editable": true,
        "tags": [],
        "id": "Wsr62zi7gK41"
      },
      "outputs": [],
      "source": [
        "# Move your cursor to the end of the line, press tab, and a drop menu will appear showing all possible completions\n",
        "ra"
      ]
    },
    {
      "cell_type": "code",
      "execution_count": null,
      "metadata": {
        "editable": true,
        "tags": [],
        "id": "x8jv2OEbgK42"
      },
      "outputs": [],
      "source": [
        "# If there is only one option, tab-complete will auto-complete what you are typing\n",
        "ran"
      ]
    },
    {
      "cell_type": "markdown",
      "metadata": {
        "editable": true,
        "tags": [],
        "id": "Cw3Uce2HgK42"
      },
      "source": [
        "## PrairieLearn\n",
        "- For Assessment: VQs (video quizzes), CLs (coding labs), As (assignments), and exams (E1, E2, Final)\n",
        "    - Save & Grade -> will give you immediate feedback on correctness\n",
        "    - Unlimited attempts for full credit: Coding labs\n",
        "    - (typically) Multiple attempts for credit (diminishing): VQs, As, Exams\n",
        "- If you save but do NOT click Save & Grade, it will grade once assessment closes.\n",
        "- - Sometimes there will be Jupyter notebooks:\n",
        "    - do not change file names\n",
        "    - MUST save notebook AND click save on PL\n",
        "    - `print()` statements encouraged"
      ]
    },
    {
      "cell_type": "markdown",
      "metadata": {
        "editable": true,
        "tags": [],
        "id": "BVGkQOOngK42"
      },
      "source": [
        "**[demo]**\n",
        "\n",
        "- PL\n",
        "- Workspaces (Notebooks) in PL"
      ]
    },
    {
      "cell_type": "markdown",
      "metadata": {
        "editable": true,
        "tags": [],
        "id": "9J1EWOLkgK42"
      },
      "source": [
        "## Academic Integrity\n",
        "\n",
        "We've had some issues in the past, so we're trying to be incredibly explicit this quarter so that we're all on the same page. (And, because this differs from some other courses.)"
      ]
    },
    {
      "cell_type": "markdown",
      "metadata": {
        "editable": true,
        "tags": [],
        "id": "24eLy0cXgK42"
      },
      "source": [
        "<center><img src=\"https://github.com/COGS18/LectureNotes-COGS18/blob/main/img/academic_integrity.png?raw=1\" width=\"900px\"></center>\n",
        "\n",
        "Correction: It was for one exam; it was not constant. And it was 6/100 (which is 6% of the class!)"
      ]
    },
    {
      "cell_type": "markdown",
      "metadata": {
        "editable": true,
        "tags": [],
        "id": "O0IaU_oxgK42"
      },
      "source": [
        "*I came into this class knowing absolutely nothing about coding. Being in this position, I have made it my goal to go above and beyond in learning about programming languages that I am unfamiliar with because I personally like a challenge and I love learning new things.*\n",
        "\n",
        "*Because coding does not come naturally to me, I plan WAY ahead of time as to when I need to sit down, uninterrupted, to really learn, make mistakes, and test out the code I write in assignments. For example, I plan DAYS ahead of time as to when I need to sit down and complete assignments. Again, because coding does not come naturally to me, I spend on average 2 hours more than the median hours/time spent listed. Not only do I spend hours completing assignments to the best of my ability, but I make sure to test out EACH AND EVERY PIECE of code I wrote in these assignments to make sure my code is “spitting out” what I am expecting, and to show you and the TAs what I was trying to do just in case I get something wrong (because showing work for some points is better than showing no work for 0 points, you know?)*\n",
        "\n",
        "*Each student has their method, and planning out WHEN to work and HOW LONG to work on assignments is my method; I just think it is a shame that students resort to cheating when things get tough or they are too lazy to actually learn, because again, that is unfair to me as a student who dedicates time and energy to every assignment in this class.*\n",
        "\n",
        "\\- Former COGS 18 Student"
      ]
    },
    {
      "cell_type": "markdown",
      "metadata": {
        "editable": true,
        "tags": [],
        "id": "UMuW761kgK42"
      },
      "source": [
        "The most important reminder: **you must have written, understand, and be able to explain any code you turn in as your own.**"
      ]
    },
    {
      "cell_type": "markdown",
      "metadata": {
        "editable": true,
        "tags": [],
        "id": "EHR3iPmugK42"
      },
      "source": [
        "When *can* you work with others or use outside resources (i.e. ChatGPT) in COGS 18?\n",
        "\n",
        "Everything *other than* exams."
      ]
    },
    {
      "cell_type": "markdown",
      "metadata": {
        "id": "Wclo3HsDgK42"
      },
      "source": [
        "Working with others is *different* than copying from others. It is *never* acceptable to just ask someone for their answers or their code.\n",
        "\n",
        "On Coding Labs & Assignments, it *is* OK to ask one another questions *about* what you're working on. It is OK to share screens and talk through your answers.\n",
        "\n",
        "If you find yourself copying + pasting someone else's code (from a friend or from the Internet)...you're probably making a mistake."
      ]
    },
    {
      "cell_type": "markdown",
      "metadata": {
        "id": "iLAJ9xyUgK42"
      },
      "source": [
        "Exams assess *your* understanding after you've had plenty of practice (in lecture, on coding labs, and on assignments).\n",
        "\n",
        "It's your time to show off what you know."
      ]
    },
    {
      "cell_type": "markdown",
      "metadata": {
        "id": "EdYjYSNIgK42"
      },
      "source": [
        "Part of your first Coding Lab will help to make this all as clear as possible!"
      ]
    }
  ],
  "metadata": {
    "celltoolbar": "Slideshow",
    "kernelspec": {
      "display_name": "Python 3 (ipykernel)",
      "language": "python",
      "name": "python3"
    },
    "language_info": {
      "codemirror_mode": {
        "name": "ipython",
        "version": 3
      },
      "file_extension": ".py",
      "mimetype": "text/x-python",
      "name": "python",
      "nbconvert_exporter": "python",
      "pygments_lexer": "ipython3",
      "version": "3.11.8"
    },
    "rise": {
      "scroll": true
    },
    "colab": {
      "provenance": [],
      "include_colab_link": true
    }
  },
  "nbformat": 4,
  "nbformat_minor": 0
}